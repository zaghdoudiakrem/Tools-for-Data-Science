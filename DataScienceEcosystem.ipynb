{
 "cells": [
  {
   "cell_type": "markdown",
   "id": "78b52d95-79bf-4530-954a-9bd428260bb2",
   "metadata": {},
   "source": [
    "# Data Science Tools and Ecosystem"
   ]
  },
  {
   "cell_type": "markdown",
   "id": "f119a928-0b0e-4cf5-93d3-ee36621c8edf",
   "metadata": {},
   "source": [
    "##### In this notebook, Data Science Tools and Ecosystem are summarized."
   ]
  },
  {
   "cell_type": "markdown",
   "id": "65e585b5-36be-43f5-989e-277bd1021ff5",
   "metadata": {},
   "source": [
    "**Objectives:**"
   ]
  },
  {
   "cell_type": "markdown",
   "id": "ebc0ca51-5534-4ab0-848e-39f160064599",
   "metadata": {},
   "source": [
    "- Popular languages that Data Scientists use\n",
    "- Commonly used libraries used by Data Scientist \n",
    "- Famous Data Science Tools\n",
    "- Some arithmetique expressions\n"
   ]
  },
  {
   "cell_type": "markdown",
   "id": "4efee5ee-138b-4a7f-ba82-d284d49bd2f9",
   "metadata": {
    "tags": []
   },
   "source": [
    "###### Some of the popular languages that Data Scientists use are:"
   ]
  },
  {
   "cell_type": "markdown",
   "id": "33b4a71b-d625-4eea-9068-a8c26ed6b212",
   "metadata": {
    "tags": []
   },
   "source": [
    "1. Python\n",
    "2. R\n",
    "3. SQL\n",
    "4. Julia\n"
   ]
  },
  {
   "cell_type": "markdown",
   "id": "7a813978-2b69-41be-bf7b-c051a67f2b4a",
   "metadata": {},
   "source": [
    "###### Some of the commonly used libraries used by Data Scientists include:"
   ]
  },
  {
   "cell_type": "markdown",
   "id": "8ace86f1-924c-49e7-afcf-e08c750ab146",
   "metadata": {},
   "source": [
    "1. NumPy\n",
    "2. Pandas\n",
    "3. Matplotlib\n"
   ]
  },
  {
   "cell_type": "markdown",
   "id": "f3c828d9-c38d-40f2-a297-2b66dc14d14f",
   "metadata": {},
   "source": [
    "| Data Science Tools |\n",
    "| -------------| \n",
    "| Jupyter Notebook | \n",
    "| RStudio |\n",
    "| Visual Studio Code|"
   ]
  },
  {
   "cell_type": "markdown",
   "id": "9cf58330-8571-4f56-8def-ce9f5a708a5a",
   "metadata": {},
   "source": [
    "### Below are a few examples of evaluating arithmetic expressions in Python"
   ]
  },
  {
   "cell_type": "code",
   "execution_count": 3,
   "id": "770a4a0b-1ead-4c50-86d7-7b9500159382",
   "metadata": {
    "tags": []
   },
   "outputs": [],
   "source": [
    "# This a simple arithmetic expression to mutiply then add integers"
   ]
  },
  {
   "cell_type": "code",
   "execution_count": 4,
   "id": "69adfe5c-dd6c-4970-9248-8d2a82d14b3c",
   "metadata": {
    "tags": []
   },
   "outputs": [
    {
     "data": {
      "text/plain": [
       "17"
      ]
     },
     "execution_count": 4,
     "metadata": {},
     "output_type": "execute_result"
    }
   ],
   "source": [
    "(3*4)+5"
   ]
  },
  {
   "cell_type": "code",
   "execution_count": 1,
   "id": "8d50aa7d-e9a3-4762-8e2b-57658d5f9e5a",
   "metadata": {
    "tags": []
   },
   "outputs": [],
   "source": [
    "# This will convert 200 minutes to hours by diving by 60"
   ]
  },
  {
   "cell_type": "code",
   "execution_count": 5,
   "id": "077e1df7-a026-4ef8-9ce8-44b989f8f9bf",
   "metadata": {
    "tags": []
   },
   "outputs": [
    {
     "name": "stdout",
     "output_type": "stream",
     "text": [
      "200 minutes is  3 hours and 20  minutes \n"
     ]
    }
   ],
   "source": [
    "x = 200 // 60\n",
    "y= 200 % 60\n",
    "print(\"200 minutes is \",x,\"hours and\",y,\" minutes \")"
   ]
  },
  {
   "cell_type": "markdown",
   "id": "3d882875-9b09-4102-9aaf-042838e6350b",
   "metadata": {},
   "source": [
    "## Author"
   ]
  },
  {
   "cell_type": "markdown",
   "id": "6aa88333-5c07-49aa-bd15-5533cd98c6a3",
   "metadata": {
    "tags": []
   },
   "source": [
    "Akrem Zaghdoudi"
   ]
  },
  {
   "cell_type": "code",
   "execution_count": null,
   "id": "e7c3214e-84aa-44cf-9630-fdb118cecf22",
   "metadata": {},
   "outputs": [],
   "source": []
  }
 ],
 "metadata": {
  "kernelspec": {
   "display_name": "Python",
   "language": "python",
   "name": "conda-env-python-py"
  },
  "language_info": {
   "codemirror_mode": {
    "name": "ipython",
    "version": 3
   },
   "file_extension": ".py",
   "mimetype": "text/x-python",
   "name": "python",
   "nbconvert_exporter": "python",
   "pygments_lexer": "ipython3",
   "version": "3.7.12"
  }
 },
 "nbformat": 4,
 "nbformat_minor": 5
}
